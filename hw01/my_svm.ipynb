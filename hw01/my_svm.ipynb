{
 "cells": [
  {
   "cell_type": "markdown",
   "metadata": {},
   "source": [
    "# Линейный SVM \"своими руками\""
   ]
  },
  {
   "cell_type": "markdown",
   "metadata": {},
   "source": [
    "## Генерируем обучающую и тестовую выборку для экспериментов"
   ]
  },
  {
   "cell_type": "code",
   "execution_count": 26,
   "metadata": {},
   "outputs": [
    {
     "name": "stdout",
     "output_type": "stream",
     "text": [
      "10000 10000\n",
      "8000\n"
     ]
    }
   ],
   "source": [
    "from sklearn.model_selection import train_test_split\n",
    "from sklearn import datasets\n",
    "\n",
    "X, y = datasets.make_classification(\n",
    "    n_samples=10000, n_features=20, \n",
    "    n_classes=2, n_informative=20, \n",
    "    n_redundant=0,\n",
    "    random_state=42\n",
    ")\n",
    "\n",
    "X_train, X_test, y_train, y_test = train_test_split(\n",
    "    X, y, \n",
    "    test_size=0.2,\n",
    "    random_state=42\n",
    ")\n",
    "\n",
    "print(len(X), len(y))\n",
    "print(len(X_train))"
   ]
  },
  {
   "cell_type": "markdown",
   "metadata": {},
   "source": [
    "## Пишем свой класс для SVM"
   ]
  },
  {
   "cell_type": "code",
   "execution_count": 55,
   "metadata": {},
   "outputs": [],
   "source": [
    "import numpy as np\n",
    "from random import randint\n",
    "import random\n",
    "\n",
    "\n",
    "np.random.seed(42)\n",
    "random.seed(42)\n",
    "\n",
    "\n",
    "class MySVM(object):\n",
    "    def __init__(self, C=10000):\n",
    "        self.C = C # regularization constant\n",
    "\n",
    "    # f(x) = <w,x> + w_0\n",
    "    def f(self, x):\n",
    "        return np.dot(self.w, x) + self.w0\n",
    "\n",
    "    # a(x) = [f(x) > 0]\n",
    "    def a(self, x):\n",
    "        return 1 if self.f(x) > 0 else 0\n",
    "    \n",
    "    # predicting answers for X_test\n",
    "    def predict(self, X_test):\n",
    "        return np.array([model.a(x) for x in X_test])\n",
    "\n",
    "    # l2-regularizator\n",
    "    def reg(self):\n",
    "        return 1.0 * sum(self.w ** 2) / (2.0 * self.C)\n",
    "\n",
    "    # l2-regularizator derivative\n",
    "    def der_reg(self):\n",
    "        '''ToDo: fix this function'''\n",
    "        return 1.0 * self.w / self.C\n",
    "\n",
    "    # hinge loss\n",
    "    def loss(self, x, answer):\n",
    "        return max([0, 1 - answer * self.f(x)])\n",
    "\n",
    "    # hinge loss derivative\n",
    "    def der_loss(self, x, answer):\n",
    "        if 1 - answer * self.f(x) > 0:\n",
    "            return -1.0\n",
    "        else:\n",
    "            return 0.\n",
    "\n",
    "    # fitting w and w_0 with SGD\n",
    "    def fit(self, X_train, y_train):\n",
    "        dim = len(X_train[0])\n",
    "        self.w = np.random.rand(dim) # initial value for w\n",
    "        self.w0 = np.random.randn() # initial value for w_0\n",
    "        \n",
    "        # 10000 steps is OK for this example\n",
    "        # another variant is to continue iterations while error is still decreasing\n",
    "        for k in range(10000):  \n",
    "            \n",
    "            # random example choise\n",
    "            rand_index = randint(0, len(X_train) - 1) # generating random index\n",
    "            x = X_train[rand_index]\n",
    "            y = y_train[rand_index]\n",
    "\n",
    "            # simple heuristic for step size\n",
    "            step = 0.5 * 0.9 ** k\n",
    "\n",
    "            # w update            \n",
    "            '''ToDo: add w update with regularization'''\n",
    "            self.w -= (step * y * x * self.der_loss(x, y) + self.der_reg())\n",
    "            \n",
    "            # w_0 update\n",
    "            '''ToDo: add w_0 update'''\n",
    "            self.w0 -= step * y * self.der_loss(x, y)"
   ]
  },
  {
   "cell_type": "markdown",
   "metadata": {},
   "source": [
    "## Пробуем обучить наш классификатор и посмотреть на качество на тесте"
   ]
  },
  {
   "cell_type": "code",
   "execution_count": 56,
   "metadata": {},
   "outputs": [
    {
     "name": "stdout",
     "output_type": "stream",
     "text": [
      "[-0.15150201  0.73784895  0.53013729  0.82508488  0.46781213  0.57546931\n",
      " -0.68727899 -0.12405884  0.01799554 -0.75831006 -0.34147456 -0.2552856\n",
      "  0.55307224 -0.90056568 -0.5996077  -0.02057609  0.12817311  1.7560642\n",
      "  0.85404949  0.11445516] -0.8289694298107237\n"
     ]
    }
   ],
   "source": [
    "model = MySVM()\n",
    "model.fit(X_train, y_train)\n",
    "print(model.w, model.w0)"
   ]
  },
  {
   "cell_type": "code",
   "execution_count": 57,
   "metadata": {},
   "outputs": [],
   "source": [
    "predictions = model.predict(X_test)"
   ]
  },
  {
   "cell_type": "code",
   "execution_count": 58,
   "metadata": {},
   "outputs": [
    {
     "name": "stdout",
     "output_type": "stream",
     "text": [
      "[0 1 0 ... 0 1 1]\n"
     ]
    }
   ],
   "source": [
    "print(predictions)"
   ]
  },
  {
   "cell_type": "code",
   "execution_count": 59,
   "metadata": {},
   "outputs": [
    {
     "name": "stdout",
     "output_type": "stream",
     "text": [
      "[1 0 1 ... 1 0 1] 2000 991\n"
     ]
    }
   ],
   "source": [
    "print(y_test, len(y_test), sum(y_test))"
   ]
  },
  {
   "cell_type": "code",
   "execution_count": 60,
   "metadata": {},
   "outputs": [
    {
     "name": "stdout",
     "output_type": "stream",
     "text": [
      "2000 1143\n"
     ]
    }
   ],
   "source": [
    "print(len(predictions), sum(predictions))"
   ]
  },
  {
   "cell_type": "code",
   "execution_count": 61,
   "metadata": {},
   "outputs": [
    {
     "name": "stdout",
     "output_type": "stream",
     "text": [
      "0.61\n"
     ]
    }
   ],
   "source": [
    "print(sum(predictions == y_test) / float(len(y_test)))"
   ]
  },
  {
   "cell_type": "markdown",
   "metadata": {
    "collapsed": true
   },
   "source": [
    "## Задания:\n",
    "\n",
    "### - Допишите недостающие функции в MySVM (производные и обновление весов)\n",
    "\n",
    "### - Сравните качество с sklearn LinearSVC"
   ]
  },
  {
   "cell_type": "code",
   "execution_count": 62,
   "metadata": {},
   "outputs": [],
   "source": [
    "from sklearn.svm import LinearSVC"
   ]
  },
  {
   "cell_type": "code",
   "execution_count": 72,
   "metadata": {},
   "outputs": [],
   "source": [
    "modelSklearn= LinearSVC(C=10000, max_iter=100000)"
   ]
  },
  {
   "cell_type": "code",
   "execution_count": 73,
   "metadata": {},
   "outputs": [
    {
     "name": "stdout",
     "output_type": "stream",
     "text": [
      "0.614\n"
     ]
    },
    {
     "name": "stderr",
     "output_type": "stream",
     "text": [
      "/home/abdrakhimov/anaconda3/lib/python3.8/site-packages/sklearn/svm/_base.py:976: ConvergenceWarning: Liblinear failed to converge, increase the number of iterations.\n",
      "  warnings.warn(\"Liblinear failed to converge, increase \"\n"
     ]
    }
   ],
   "source": [
    "modelSklearn.fit(X_train, y_train)\n",
    "predictionsSklearn = modelSklearn.predict(X_test)\n",
    "print(sum(predictionsSklearn == y_test) / float(len(y_test)))"
   ]
  },
  {
   "cell_type": "code",
   "execution_count": null,
   "metadata": {},
   "outputs": [],
   "source": []
  }
 ],
 "metadata": {
  "anaconda-cloud": {},
  "kernelspec": {
   "display_name": "Python 3",
   "language": "python",
   "name": "python3"
  },
  "language_info": {
   "codemirror_mode": {
    "name": "ipython",
    "version": 3
   },
   "file_extension": ".py",
   "mimetype": "text/x-python",
   "name": "python",
   "nbconvert_exporter": "python",
   "pygments_lexer": "ipython3",
   "version": "3.8.3"
  }
 },
 "nbformat": 4,
 "nbformat_minor": 1
}
